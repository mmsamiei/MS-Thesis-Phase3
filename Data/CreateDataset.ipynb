{
  "nbformat": 4,
  "nbformat_minor": 0,
  "metadata": {
    "colab": {
      "name": "Untitled160.ipynb",
      "provenance": [],
      "mount_file_id": "1lFdVcHPQGlnVYLkkYS2PP-nENYrYnVaM",
      "authorship_tag": "ABX9TyPbXfKS8XNhshKFf9n/7Q4c",
      "include_colab_link": true
    },
    "kernelspec": {
      "name": "python3",
      "display_name": "Python 3"
    }
  },
  "cells": [
    {
      "cell_type": "markdown",
      "metadata": {
        "id": "view-in-github",
        "colab_type": "text"
      },
      "source": [
        "<a href=\"https://colab.research.google.com/github/mmsamiei/MS-Thesis-Phase3/blob/master/Data/CreateDataset.ipynb\" target=\"_parent\"><img src=\"https://colab.research.google.com/assets/colab-badge.svg\" alt=\"Open In Colab\"/></a>"
      ]
    },
    {
      "cell_type": "code",
      "metadata": {
        "id": "lNNPX91Mq3n-",
        "colab_type": "code",
        "colab": {}
      },
      "source": [
        "import pandas as pd\n",
        "import json\n",
        "\n",
        "data = json.load(open('/content/drive/My Drive/Datasets/wizard_of_wikipedia/train.json'))"
      ],
      "execution_count": 0,
      "outputs": []
    },
    {
      "cell_type": "code",
      "metadata": {
        "id": "EMt_vteMt1xh",
        "colab_type": "code",
        "colab": {
          "base_uri": "https://localhost:8080/",
          "height": 35
        },
        "outputId": "fcd3af30-9d33-452b-e7f5-4c9cb7ef3e38"
      },
      "source": [
        "len(data)"
      ],
      "execution_count": 8,
      "outputs": [
        {
          "output_type": "execute_result",
          "data": {
            "text/plain": [
              "18430"
            ]
          },
          "metadata": {
            "tags": []
          },
          "execution_count": 8
        }
      ]
    },
    {
      "cell_type": "code",
      "metadata": {
        "id": "jlOn680-u7hR",
        "colab_type": "code",
        "colab": {
          "base_uri": "https://localhost:8080/",
          "height": 35
        },
        "outputId": "9f56300d-49ce-4050-e239-4946db57b8ab"
      },
      "source": [
        "data[0].keys()"
      ],
      "execution_count": 9,
      "outputs": [
        {
          "output_type": "execute_result",
          "data": {
            "text/plain": [
              "dict_keys(['chosen_topic', 'persona', 'wizard_eval', 'dialog', 'chosen_topic_passage'])"
            ]
          },
          "metadata": {
            "tags": []
          },
          "execution_count": 9
        }
      ]
    },
    {
      "cell_type": "code",
      "metadata": {
        "id": "UESeNp8JvFFp",
        "colab_type": "code",
        "colab": {
          "base_uri": "https://localhost:8080/",
          "height": 35
        },
        "outputId": "0dcaf6a7-0564-4d8d-fd96-6d4dab806885"
      },
      "source": [
        "data[0]['chosen_topic']"
      ],
      "execution_count": 10,
      "outputs": [
        {
          "output_type": "execute_result",
          "data": {
            "text/plain": [
              "'Science fiction'"
            ]
          },
          "metadata": {
            "tags": []
          },
          "execution_count": 10
        }
      ]
    },
    {
      "cell_type": "code",
      "metadata": {
        "id": "kDTaF5UbvMlA",
        "colab_type": "code",
        "colab": {
          "base_uri": "https://localhost:8080/",
          "height": 35
        },
        "outputId": "9350ea57-87ee-4976-9097-242a42af104a"
      },
      "source": [
        "len(data[0]['dialog'])"
      ],
      "execution_count": 15,
      "outputs": [
        {
          "output_type": "execute_result",
          "data": {
            "text/plain": [
              "10"
            ]
          },
          "metadata": {
            "tags": []
          },
          "execution_count": 15
        }
      ]
    },
    {
      "cell_type": "code",
      "metadata": {
        "id": "VjbEbDF4vddk",
        "colab_type": "code",
        "colab": {
          "base_uri": "https://localhost:8080/",
          "height": 35
        },
        "outputId": "8c995232-ccec-4fd3-b45b-9d0087cd9421"
      },
      "source": [
        "data[0]['dialog'][0].keys()"
      ],
      "execution_count": 18,
      "outputs": [
        {
          "output_type": "execute_result",
          "data": {
            "text/plain": [
              "dict_keys(['speaker', 'text', 'checked_sentence', 'checked_passage', 'retrieved_passages', 'retrieved_topics'])"
            ]
          },
          "metadata": {
            "tags": []
          },
          "execution_count": 18
        }
      ]
    },
    {
      "cell_type": "code",
      "metadata": {
        "id": "HiSInou0vlZR",
        "colab_type": "code",
        "colab": {
          "base_uri": "https://localhost:8080/",
          "height": 53
        },
        "outputId": "53b034b3-46f4-4092-ce1d-b7a256f11ade"
      },
      "source": [
        "print(data[0]['dialog'][0]['speaker'])\n",
        "print(data[0]['dialog'][1]['speaker'])"
      ],
      "execution_count": 20,
      "outputs": [
        {
          "output_type": "stream",
          "text": [
            "0_Wizard\n",
            "1_Apprentice\n"
          ],
          "name": "stdout"
        }
      ]
    },
    {
      "cell_type": "code",
      "metadata": {
        "id": "IGblCHfVxYtd",
        "colab_type": "code",
        "colab": {
          "base_uri": "https://localhost:8080/",
          "height": 55
        },
        "outputId": "dd62435e-8eb8-4a26-a7a1-e8387dd2379a"
      },
      "source": [
        "next(iter(data[0]['dialog'][0]['checked_sentence'].values()))"
      ],
      "execution_count": 39,
      "outputs": [
        {
          "output_type": "execute_result",
          "data": {
            "text/plain": [
              "'Science fiction (often shortened to SF or sci-fi) is a genre of speculative fiction, typically dealing with imaginative concepts such as futuristic science and technology, space travel, time travel, faster than light travel, parallel universes, and extraterrestrial life.'"
            ]
          },
          "metadata": {
            "tags": []
          },
          "execution_count": 39
        }
      ]
    },
    {
      "cell_type": "code",
      "metadata": {
        "id": "dBAuM2lkvuk-",
        "colab_type": "code",
        "colab": {
          "base_uri": "https://localhost:8080/",
          "height": 73
        },
        "outputId": "e55511af-5182-4496-f5ef-0e95d8a3e19f"
      },
      "source": [
        "print(data[0]['dialog'][0]['checked_sentence'])\n",
        "print(data[0]['dialog'][0]['text'])"
      ],
      "execution_count": 34,
      "outputs": [
        {
          "output_type": "stream",
          "text": [
            "{'chosen_Science_fiction_0': 'Science fiction (often shortened to SF or sci-fi) is a genre of speculative fiction, typically dealing with imaginative concepts such as futuristic science and technology, space travel, time travel, faster than light travel, parallel universes, and extraterrestrial life.'}\n",
            "I think science fiction is an amazing genre for anything. Future science, technology, time travel, FTL travel, they're all such interesting concepts.\n"
          ],
          "name": "stdout"
        }
      ]
    },
    {
      "cell_type": "code",
      "metadata": {
        "id": "x-GApFIWyiw3",
        "colab_type": "code",
        "colab": {
          "base_uri": "https://localhost:8080/",
          "height": 35
        },
        "outputId": "cce48a4d-bd85-4736-dd1f-0ee79ddda32f"
      },
      "source": [
        "from tqdm import tqdm\n",
        "\n",
        "datarows = []\n",
        "for chat in tqdm(data):\n",
        "  chosen_topic = chat['chosen_topic']\n",
        "  history = chosen_topic\n",
        "  for message in chat['dialog']:\n",
        "    speaker = message['speaker']\n",
        "    text = message['text']\n",
        "    if speaker == '0_Wizard':\n",
        "      try:\n",
        "        knowledge = next(iter(message['checked_sentence'].values()))\n",
        "      except:\n",
        "        knowledge = \"no_passages_used\"\n",
        "      new_row = {}\n",
        "      new_row['history'] = history\n",
        "      new_row['knowledge'] = knowledge\n",
        "      new_row['response'] = text\n",
        "      datarows.append(new_row)\n",
        "      history = history + \" [SEP] \" + text\n",
        "    if speaker == '1_Apprentice':\n",
        "      history = history + \" [SEP] \" + text"
      ],
      "execution_count": 67,
      "outputs": [
        {
          "output_type": "stream",
          "text": [
            "100%|██████████| 18430/18430 [00:00<00:00, 69808.23it/s]\n"
          ],
          "name": "stderr"
        }
      ]
    },
    {
      "cell_type": "code",
      "metadata": {
        "id": "VlEqXq9E3jy5",
        "colab_type": "code",
        "colab": {
          "base_uri": "https://localhost:8080/",
          "height": 35
        },
        "outputId": "7cb65227-d2b1-41bc-f60f-8359dc86dfac"
      },
      "source": [
        "len(datarows)"
      ],
      "execution_count": 68,
      "outputs": [
        {
          "output_type": "execute_result",
          "data": {
            "text/plain": [
              "41489"
            ]
          },
          "metadata": {
            "tags": []
          },
          "execution_count": 68
        }
      ]
    },
    {
      "cell_type": "code",
      "metadata": {
        "id": "ZhS0Gcgt3z_E",
        "colab_type": "code",
        "colab": {}
      },
      "source": [
        "df = pd.DataFrame(datarows)"
      ],
      "execution_count": 0,
      "outputs": []
    },
    {
      "cell_type": "code",
      "metadata": {
        "id": "Av-7a-FJ33bq",
        "colab_type": "code",
        "colab": {}
      },
      "source": [
        "df.to_csv('/content/drive/My Drive/Thesis/phase-3/hkr_train.csv')"
      ],
      "execution_count": 0,
      "outputs": []
    }
  ]
}
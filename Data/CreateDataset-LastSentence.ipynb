{
  "nbformat": 4,
  "nbformat_minor": 0,
  "metadata": {
    "colab": {
      "name": "Untitled160.ipynb",
      "provenance": [],
      "mount_file_id": "https://github.com/mmsamiei/MS-Thesis-Phase3/blob/master/Data/CreateDataset.ipynb",
      "authorship_tag": "ABX9TyNHpb+s67nvvvohutjKiqV9",
      "include_colab_link": true
    },
    "kernelspec": {
      "name": "python3",
      "display_name": "Python 3"
    }
  },
  "cells": [
    {
      "cell_type": "markdown",
      "metadata": {
        "id": "view-in-github",
        "colab_type": "text"
      },
      "source": [
        "<a href=\"https://colab.research.google.com/github/mmsamiei/MS-Thesis-Phase3/blob/master/Data/CreateDataset-LastSentence.ipynb\" target=\"_parent\"><img src=\"https://colab.research.google.com/assets/colab-badge.svg\" alt=\"Open In Colab\"/></a>"
      ]
    },
    {
      "cell_type": "code",
      "metadata": {
        "id": "lNNPX91Mq3n-",
        "colab_type": "code",
        "colab": {}
      },
      "source": [
        "import pandas as pd\n",
        "import json\n",
        "\n",
        "data = json.load(open('/content/drive/My Drive/Datasets/wizard_of_wikipedia/train.json'))"
      ],
      "execution_count": 2,
      "outputs": []
    },
    {
      "cell_type": "code",
      "metadata": {
        "id": "EMt_vteMt1xh",
        "colab_type": "code",
        "colab": {
          "base_uri": "https://localhost:8080/",
          "height": 35
        },
        "outputId": "6b756d4a-a273-46fc-c351-af58db40084e"
      },
      "source": [
        "len(data)"
      ],
      "execution_count": 3,
      "outputs": [
        {
          "output_type": "execute_result",
          "data": {
            "text/plain": [
              "18430"
            ]
          },
          "metadata": {
            "tags": []
          },
          "execution_count": 3
        }
      ]
    },
    {
      "cell_type": "code",
      "metadata": {
        "id": "jlOn680-u7hR",
        "colab_type": "code",
        "colab": {
          "base_uri": "https://localhost:8080/",
          "height": 35
        },
        "outputId": "367786ea-a4f3-4778-a0c1-5e4afd76b69f"
      },
      "source": [
        "data[0].keys()"
      ],
      "execution_count": 4,
      "outputs": [
        {
          "output_type": "execute_result",
          "data": {
            "text/plain": [
              "dict_keys(['chosen_topic', 'persona', 'wizard_eval', 'dialog', 'chosen_topic_passage'])"
            ]
          },
          "metadata": {
            "tags": []
          },
          "execution_count": 4
        }
      ]
    },
    {
      "cell_type": "code",
      "metadata": {
        "id": "UESeNp8JvFFp",
        "colab_type": "code",
        "colab": {
          "base_uri": "https://localhost:8080/",
          "height": 35
        },
        "outputId": "4f95c699-8151-4af3-b018-d1301c58160c"
      },
      "source": [
        "data[0]['chosen_topic']"
      ],
      "execution_count": 5,
      "outputs": [
        {
          "output_type": "execute_result",
          "data": {
            "application/vnd.google.colaboratory.intrinsic": {
              "type": "string"
            },
            "text/plain": [
              "'Science fiction'"
            ]
          },
          "metadata": {
            "tags": []
          },
          "execution_count": 5
        }
      ]
    },
    {
      "cell_type": "code",
      "metadata": {
        "id": "kDTaF5UbvMlA",
        "colab_type": "code",
        "colab": {
          "base_uri": "https://localhost:8080/",
          "height": 35
        },
        "outputId": "ad433654-6c5f-424b-9401-79e766de6eb4"
      },
      "source": [
        "len(data[0]['dialog'])"
      ],
      "execution_count": 6,
      "outputs": [
        {
          "output_type": "execute_result",
          "data": {
            "text/plain": [
              "10"
            ]
          },
          "metadata": {
            "tags": []
          },
          "execution_count": 6
        }
      ]
    },
    {
      "cell_type": "code",
      "metadata": {
        "id": "VjbEbDF4vddk",
        "colab_type": "code",
        "colab": {
          "base_uri": "https://localhost:8080/",
          "height": 35
        },
        "outputId": "d2c90545-44c3-4364-c5bb-0ec9db374811"
      },
      "source": [
        "data[0]['dialog'][0].keys()"
      ],
      "execution_count": 7,
      "outputs": [
        {
          "output_type": "execute_result",
          "data": {
            "text/plain": [
              "dict_keys(['speaker', 'text', 'checked_sentence', 'checked_passage', 'retrieved_passages', 'retrieved_topics'])"
            ]
          },
          "metadata": {
            "tags": []
          },
          "execution_count": 7
        }
      ]
    },
    {
      "cell_type": "code",
      "metadata": {
        "id": "HiSInou0vlZR",
        "colab_type": "code",
        "colab": {
          "base_uri": "https://localhost:8080/",
          "height": 53
        },
        "outputId": "dbfc873b-c24f-4ff0-ccf1-00f9f472aab5"
      },
      "source": [
        "print(data[0]['dialog'][0]['speaker'])\n",
        "print(data[0]['dialog'][1]['speaker'])"
      ],
      "execution_count": 8,
      "outputs": [
        {
          "output_type": "stream",
          "text": [
            "0_Wizard\n",
            "1_Apprentice\n"
          ],
          "name": "stdout"
        }
      ]
    },
    {
      "cell_type": "code",
      "metadata": {
        "id": "IGblCHfVxYtd",
        "colab_type": "code",
        "colab": {
          "base_uri": "https://localhost:8080/",
          "height": 70
        },
        "outputId": "0962ceeb-1ac1-4c83-89ee-e9a4324e4d11"
      },
      "source": [
        "next(iter(data[0]['dialog'][0]['checked_sentence'].values()))"
      ],
      "execution_count": 9,
      "outputs": [
        {
          "output_type": "execute_result",
          "data": {
            "application/vnd.google.colaboratory.intrinsic": {
              "type": "string"
            },
            "text/plain": [
              "'Science fiction (often shortened to SF or sci-fi) is a genre of speculative fiction, typically dealing with imaginative concepts such as futuristic science and technology, space travel, time travel, faster than light travel, parallel universes, and extraterrestrial life.'"
            ]
          },
          "metadata": {
            "tags": []
          },
          "execution_count": 9
        }
      ]
    },
    {
      "cell_type": "code",
      "metadata": {
        "id": "dBAuM2lkvuk-",
        "colab_type": "code",
        "colab": {
          "base_uri": "https://localhost:8080/",
          "height": 73
        },
        "outputId": "e4c21f6a-d0ba-4a13-c474-6a576b4651c3"
      },
      "source": [
        "print(data[0]['dialog'][0]['checked_sentence'])\n",
        "print(data[0]['dialog'][0]['text'])"
      ],
      "execution_count": 10,
      "outputs": [
        {
          "output_type": "stream",
          "text": [
            "{'chosen_Science_fiction_0': 'Science fiction (often shortened to SF or sci-fi) is a genre of speculative fiction, typically dealing with imaginative concepts such as futuristic science and technology, space travel, time travel, faster than light travel, parallel universes, and extraterrestrial life.'}\n",
            "I think science fiction is an amazing genre for anything. Future science, technology, time travel, FTL travel, they're all such interesting concepts.\n"
          ],
          "name": "stdout"
        }
      ]
    },
    {
      "cell_type": "code",
      "metadata": {
        "id": "x-GApFIWyiw3",
        "colab_type": "code",
        "colab": {
          "base_uri": "https://localhost:8080/",
          "height": 35
        },
        "outputId": "dac8202e-b38a-4b84-9f63-de4c916cc24c"
      },
      "source": [
        "from tqdm import tqdm\n",
        "\n",
        "datarows = []\n",
        "for chat in tqdm(data):\n",
        "  chosen_topic = chat['chosen_topic']\n",
        "  history = []\n",
        "  history.append(chosen_topic)\n",
        "  for message in chat['dialog']:\n",
        "    speaker = message['speaker']\n",
        "    text = message['text']\n",
        "    if speaker == '0_Wizard':\n",
        "      try:\n",
        "        knowledge = next(iter(message['checked_sentence'].values()))\n",
        "      except:\n",
        "        knowledge = \"no_passages_used\"\n",
        "      if knowledge == \"no_passages_used\":\n",
        "        knowledge = \"\"\n",
        "      new_row = {}\n",
        "      new_row['history'] = history[-1]\n",
        "      new_row['knowledge'] = knowledge\n",
        "      new_row['response'] = text\n",
        "      datarows.append(new_row)\n",
        "      history.append(text)\n",
        "    if speaker == '1_Apprentice':\n",
        "      history.append(text)"
      ],
      "execution_count": 30,
      "outputs": [
        {
          "output_type": "stream",
          "text": [
            "100%|██████████| 18430/18430 [00:00<00:00, 92280.12it/s]\n"
          ],
          "name": "stderr"
        }
      ]
    },
    {
      "cell_type": "code",
      "metadata": {
        "id": "VlEqXq9E3jy5",
        "colab_type": "code",
        "colab": {
          "base_uri": "https://localhost:8080/",
          "height": 35
        },
        "outputId": "ac951e51-0f04-49dd-b9eb-703387560288"
      },
      "source": [
        "len(datarows)"
      ],
      "execution_count": 31,
      "outputs": [
        {
          "output_type": "execute_result",
          "data": {
            "text/plain": [
              "41489"
            ]
          },
          "metadata": {
            "tags": []
          },
          "execution_count": 31
        }
      ]
    },
    {
      "cell_type": "code",
      "metadata": {
        "id": "ZhS0Gcgt3z_E",
        "colab_type": "code",
        "colab": {}
      },
      "source": [
        "df = pd.DataFrame(datarows)"
      ],
      "execution_count": 32,
      "outputs": []
    },
    {
      "cell_type": "code",
      "metadata": {
        "id": "Av-7a-FJ33bq",
        "colab_type": "code",
        "colab": {}
      },
      "source": [
        "df.to_csv('/content/drive/My Drive/Thesis/phase-3/last_sentence.csv')"
      ],
      "execution_count": 33,
      "outputs": []
    }
  ]
}
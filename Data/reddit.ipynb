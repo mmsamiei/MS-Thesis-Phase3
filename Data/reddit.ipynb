{
  "nbformat": 4,
  "nbformat_minor": 0,
  "metadata": {
    "colab": {
      "name": "Untitled175.ipynb",
      "provenance": [],
      "mount_file_id": "1uq8wDkJLiFsbTpUyQZGrRpnLF90CiT_z",
      "authorship_tag": "ABX9TyNGrwbU3QnDXiNi/aFDgBZ8",
      "include_colab_link": true
    },
    "kernelspec": {
      "name": "python3",
      "display_name": "Python 3"
    },
    "widgets": {
      "application/vnd.jupyter.widget-state+json": {
        "b92e729d49334f4b9cbe937975e3ff5b": {
          "model_module": "@jupyter-widgets/controls",
          "model_name": "HBoxModel",
          "state": {
            "_view_name": "HBoxView",
            "_dom_classes": [],
            "_model_name": "HBoxModel",
            "_view_module": "@jupyter-widgets/controls",
            "_model_module_version": "1.5.0",
            "_view_count": null,
            "_view_module_version": "1.5.0",
            "box_style": "",
            "layout": "IPY_MODEL_3ce8eaec04bc40129e108de1b89adf80",
            "_model_module": "@jupyter-widgets/controls",
            "children": [
              "IPY_MODEL_375ab237d97e419fa168508656161e44",
              "IPY_MODEL_58556441e52344e8afbe807fafa2d0fb"
            ]
          }
        },
        "3ce8eaec04bc40129e108de1b89adf80": {
          "model_module": "@jupyter-widgets/base",
          "model_name": "LayoutModel",
          "state": {
            "_view_name": "LayoutView",
            "grid_template_rows": null,
            "right": null,
            "justify_content": null,
            "_view_module": "@jupyter-widgets/base",
            "overflow": null,
            "_model_module_version": "1.2.0",
            "_view_count": null,
            "flex_flow": null,
            "width": null,
            "min_width": null,
            "border": null,
            "align_items": null,
            "bottom": null,
            "_model_module": "@jupyter-widgets/base",
            "top": null,
            "grid_column": null,
            "overflow_y": null,
            "overflow_x": null,
            "grid_auto_flow": null,
            "grid_area": null,
            "grid_template_columns": null,
            "flex": null,
            "_model_name": "LayoutModel",
            "justify_items": null,
            "grid_row": null,
            "max_height": null,
            "align_content": null,
            "visibility": null,
            "align_self": null,
            "height": null,
            "min_height": null,
            "padding": null,
            "grid_auto_rows": null,
            "grid_gap": null,
            "max_width": null,
            "order": null,
            "_view_module_version": "1.2.0",
            "grid_template_areas": null,
            "object_position": null,
            "object_fit": null,
            "grid_auto_columns": null,
            "margin": null,
            "display": null,
            "left": null
          }
        },
        "375ab237d97e419fa168508656161e44": {
          "model_module": "@jupyter-widgets/controls",
          "model_name": "FloatProgressModel",
          "state": {
            "_view_name": "ProgressView",
            "style": "IPY_MODEL_e175a71ecc8b4ab489524d4147fc7cbc",
            "_dom_classes": [],
            "description": " 21%",
            "_model_name": "FloatProgressModel",
            "bar_style": "",
            "max": 130437,
            "_view_module": "@jupyter-widgets/controls",
            "_model_module_version": "1.5.0",
            "value": 27765,
            "_view_count": null,
            "_view_module_version": "1.5.0",
            "orientation": "horizontal",
            "min": 0,
            "description_tooltip": null,
            "_model_module": "@jupyter-widgets/controls",
            "layout": "IPY_MODEL_8c7028e9bb1b4b19812f67f8f8941b9c"
          }
        },
        "58556441e52344e8afbe807fafa2d0fb": {
          "model_module": "@jupyter-widgets/controls",
          "model_name": "HTMLModel",
          "state": {
            "_view_name": "HTMLView",
            "style": "IPY_MODEL_439442172e0d46e3b4ffea9e9918278f",
            "_dom_classes": [],
            "description": "",
            "_model_name": "HTMLModel",
            "placeholder": "​",
            "_view_module": "@jupyter-widgets/controls",
            "_model_module_version": "1.5.0",
            "value": " 27765/130437 [03:25&lt;37:45, 45.32it/s]",
            "_view_count": null,
            "_view_module_version": "1.5.0",
            "description_tooltip": null,
            "_model_module": "@jupyter-widgets/controls",
            "layout": "IPY_MODEL_a00da15d266f464d87ce419a4c844cfa"
          }
        },
        "e175a71ecc8b4ab489524d4147fc7cbc": {
          "model_module": "@jupyter-widgets/controls",
          "model_name": "ProgressStyleModel",
          "state": {
            "_view_name": "StyleView",
            "_model_name": "ProgressStyleModel",
            "description_width": "initial",
            "_view_module": "@jupyter-widgets/base",
            "_model_module_version": "1.5.0",
            "_view_count": null,
            "_view_module_version": "1.2.0",
            "bar_color": null,
            "_model_module": "@jupyter-widgets/controls"
          }
        },
        "8c7028e9bb1b4b19812f67f8f8941b9c": {
          "model_module": "@jupyter-widgets/base",
          "model_name": "LayoutModel",
          "state": {
            "_view_name": "LayoutView",
            "grid_template_rows": null,
            "right": null,
            "justify_content": null,
            "_view_module": "@jupyter-widgets/base",
            "overflow": null,
            "_model_module_version": "1.2.0",
            "_view_count": null,
            "flex_flow": null,
            "width": null,
            "min_width": null,
            "border": null,
            "align_items": null,
            "bottom": null,
            "_model_module": "@jupyter-widgets/base",
            "top": null,
            "grid_column": null,
            "overflow_y": null,
            "overflow_x": null,
            "grid_auto_flow": null,
            "grid_area": null,
            "grid_template_columns": null,
            "flex": null,
            "_model_name": "LayoutModel",
            "justify_items": null,
            "grid_row": null,
            "max_height": null,
            "align_content": null,
            "visibility": null,
            "align_self": null,
            "height": null,
            "min_height": null,
            "padding": null,
            "grid_auto_rows": null,
            "grid_gap": null,
            "max_width": null,
            "order": null,
            "_view_module_version": "1.2.0",
            "grid_template_areas": null,
            "object_position": null,
            "object_fit": null,
            "grid_auto_columns": null,
            "margin": null,
            "display": null,
            "left": null
          }
        },
        "439442172e0d46e3b4ffea9e9918278f": {
          "model_module": "@jupyter-widgets/controls",
          "model_name": "DescriptionStyleModel",
          "state": {
            "_view_name": "StyleView",
            "_model_name": "DescriptionStyleModel",
            "description_width": "",
            "_view_module": "@jupyter-widgets/base",
            "_model_module_version": "1.5.0",
            "_view_count": null,
            "_view_module_version": "1.2.0",
            "_model_module": "@jupyter-widgets/controls"
          }
        },
        "a00da15d266f464d87ce419a4c844cfa": {
          "model_module": "@jupyter-widgets/base",
          "model_name": "LayoutModel",
          "state": {
            "_view_name": "LayoutView",
            "grid_template_rows": null,
            "right": null,
            "justify_content": null,
            "_view_module": "@jupyter-widgets/base",
            "overflow": null,
            "_model_module_version": "1.2.0",
            "_view_count": null,
            "flex_flow": null,
            "width": null,
            "min_width": null,
            "border": null,
            "align_items": null,
            "bottom": null,
            "_model_module": "@jupyter-widgets/base",
            "top": null,
            "grid_column": null,
            "overflow_y": null,
            "overflow_x": null,
            "grid_auto_flow": null,
            "grid_area": null,
            "grid_template_columns": null,
            "flex": null,
            "_model_name": "LayoutModel",
            "justify_items": null,
            "grid_row": null,
            "max_height": null,
            "align_content": null,
            "visibility": null,
            "align_self": null,
            "height": null,
            "min_height": null,
            "padding": null,
            "grid_auto_rows": null,
            "grid_gap": null,
            "max_width": null,
            "order": null,
            "_view_module_version": "1.2.0",
            "grid_template_areas": null,
            "object_position": null,
            "object_fit": null,
            "grid_auto_columns": null,
            "margin": null,
            "display": null,
            "left": null
          }
        },
        "ab138dc093554a8d9e6656a4c7a19438": {
          "model_module": "@jupyter-widgets/controls",
          "model_name": "HBoxModel",
          "state": {
            "_view_name": "HBoxView",
            "_dom_classes": [],
            "_model_name": "HBoxModel",
            "_view_module": "@jupyter-widgets/controls",
            "_model_module_version": "1.5.0",
            "_view_count": null,
            "_view_module_version": "1.5.0",
            "box_style": "",
            "layout": "IPY_MODEL_fc31c021b4644f10abef75c85c28a56a",
            "_model_module": "@jupyter-widgets/controls",
            "children": [
              "IPY_MODEL_4d05e92e24af4ee280f4c8222a3c9272",
              "IPY_MODEL_56e1a038fe6d4f019af860a81c8821ec"
            ]
          }
        },
        "fc31c021b4644f10abef75c85c28a56a": {
          "model_module": "@jupyter-widgets/base",
          "model_name": "LayoutModel",
          "state": {
            "_view_name": "LayoutView",
            "grid_template_rows": null,
            "right": null,
            "justify_content": null,
            "_view_module": "@jupyter-widgets/base",
            "overflow": null,
            "_model_module_version": "1.2.0",
            "_view_count": null,
            "flex_flow": null,
            "width": null,
            "min_width": null,
            "border": null,
            "align_items": null,
            "bottom": null,
            "_model_module": "@jupyter-widgets/base",
            "top": null,
            "grid_column": null,
            "overflow_y": null,
            "overflow_x": null,
            "grid_auto_flow": null,
            "grid_area": null,
            "grid_template_columns": null,
            "flex": null,
            "_model_name": "LayoutModel",
            "justify_items": null,
            "grid_row": null,
            "max_height": null,
            "align_content": null,
            "visibility": null,
            "align_self": null,
            "height": null,
            "min_height": null,
            "padding": null,
            "grid_auto_rows": null,
            "grid_gap": null,
            "max_width": null,
            "order": null,
            "_view_module_version": "1.2.0",
            "grid_template_areas": null,
            "object_position": null,
            "object_fit": null,
            "grid_auto_columns": null,
            "margin": null,
            "display": null,
            "left": null
          }
        },
        "4d05e92e24af4ee280f4c8222a3c9272": {
          "model_module": "@jupyter-widgets/controls",
          "model_name": "FloatProgressModel",
          "state": {
            "_view_name": "ProgressView",
            "style": "IPY_MODEL_af63a6edbb0149a98d282a48822c2563",
            "_dom_classes": [],
            "description": "100%",
            "_model_name": "FloatProgressModel",
            "bar_style": "success",
            "max": 81905,
            "_view_module": "@jupyter-widgets/controls",
            "_model_module_version": "1.5.0",
            "value": 81905,
            "_view_count": null,
            "_view_module_version": "1.5.0",
            "orientation": "horizontal",
            "min": 0,
            "description_tooltip": null,
            "_model_module": "@jupyter-widgets/controls",
            "layout": "IPY_MODEL_8d7c2e2bcc034d5bb37c17068a224650"
          }
        },
        "56e1a038fe6d4f019af860a81c8821ec": {
          "model_module": "@jupyter-widgets/controls",
          "model_name": "HTMLModel",
          "state": {
            "_view_name": "HTMLView",
            "style": "IPY_MODEL_d5477f25ac0a44a9a7a7f70719012a1c",
            "_dom_classes": [],
            "description": "",
            "_model_name": "HTMLModel",
            "placeholder": "​",
            "_view_module": "@jupyter-widgets/controls",
            "_model_module_version": "1.5.0",
            "value": " 81905/81905 [01:55&lt;00:00, 706.12it/s]",
            "_view_count": null,
            "_view_module_version": "1.5.0",
            "description_tooltip": null,
            "_model_module": "@jupyter-widgets/controls",
            "layout": "IPY_MODEL_7c685efad2454369ae002aaaf0512509"
          }
        },
        "af63a6edbb0149a98d282a48822c2563": {
          "model_module": "@jupyter-widgets/controls",
          "model_name": "ProgressStyleModel",
          "state": {
            "_view_name": "StyleView",
            "_model_name": "ProgressStyleModel",
            "description_width": "initial",
            "_view_module": "@jupyter-widgets/base",
            "_model_module_version": "1.5.0",
            "_view_count": null,
            "_view_module_version": "1.2.0",
            "bar_color": null,
            "_model_module": "@jupyter-widgets/controls"
          }
        },
        "8d7c2e2bcc034d5bb37c17068a224650": {
          "model_module": "@jupyter-widgets/base",
          "model_name": "LayoutModel",
          "state": {
            "_view_name": "LayoutView",
            "grid_template_rows": null,
            "right": null,
            "justify_content": null,
            "_view_module": "@jupyter-widgets/base",
            "overflow": null,
            "_model_module_version": "1.2.0",
            "_view_count": null,
            "flex_flow": null,
            "width": null,
            "min_width": null,
            "border": null,
            "align_items": null,
            "bottom": null,
            "_model_module": "@jupyter-widgets/base",
            "top": null,
            "grid_column": null,
            "overflow_y": null,
            "overflow_x": null,
            "grid_auto_flow": null,
            "grid_area": null,
            "grid_template_columns": null,
            "flex": null,
            "_model_name": "LayoutModel",
            "justify_items": null,
            "grid_row": null,
            "max_height": null,
            "align_content": null,
            "visibility": null,
            "align_self": null,
            "height": null,
            "min_height": null,
            "padding": null,
            "grid_auto_rows": null,
            "grid_gap": null,
            "max_width": null,
            "order": null,
            "_view_module_version": "1.2.0",
            "grid_template_areas": null,
            "object_position": null,
            "object_fit": null,
            "grid_auto_columns": null,
            "margin": null,
            "display": null,
            "left": null
          }
        },
        "d5477f25ac0a44a9a7a7f70719012a1c": {
          "model_module": "@jupyter-widgets/controls",
          "model_name": "DescriptionStyleModel",
          "state": {
            "_view_name": "StyleView",
            "_model_name": "DescriptionStyleModel",
            "description_width": "",
            "_view_module": "@jupyter-widgets/base",
            "_model_module_version": "1.5.0",
            "_view_count": null,
            "_view_module_version": "1.2.0",
            "_model_module": "@jupyter-widgets/controls"
          }
        },
        "7c685efad2454369ae002aaaf0512509": {
          "model_module": "@jupyter-widgets/base",
          "model_name": "LayoutModel",
          "state": {
            "_view_name": "LayoutView",
            "grid_template_rows": null,
            "right": null,
            "justify_content": null,
            "_view_module": "@jupyter-widgets/base",
            "overflow": null,
            "_model_module_version": "1.2.0",
            "_view_count": null,
            "flex_flow": null,
            "width": null,
            "min_width": null,
            "border": null,
            "align_items": null,
            "bottom": null,
            "_model_module": "@jupyter-widgets/base",
            "top": null,
            "grid_column": null,
            "overflow_y": null,
            "overflow_x": null,
            "grid_auto_flow": null,
            "grid_area": null,
            "grid_template_columns": null,
            "flex": null,
            "_model_name": "LayoutModel",
            "justify_items": null,
            "grid_row": null,
            "max_height": null,
            "align_content": null,
            "visibility": null,
            "align_self": null,
            "height": null,
            "min_height": null,
            "padding": null,
            "grid_auto_rows": null,
            "grid_gap": null,
            "max_width": null,
            "order": null,
            "_view_module_version": "1.2.0",
            "grid_template_areas": null,
            "object_position": null,
            "object_fit": null,
            "grid_auto_columns": null,
            "margin": null,
            "display": null,
            "left": null
          }
        }
      }
    }
  },
  "cells": [
    {
      "cell_type": "markdown",
      "metadata": {
        "id": "view-in-github",
        "colab_type": "text"
      },
      "source": [
        "<a href=\"https://colab.research.google.com/github/mmsamiei/MS-Thesis-Phase3/blob/master/Data/reddit.ipynb\" target=\"_parent\"><img src=\"https://colab.research.google.com/assets/colab-badge.svg\" alt=\"Open In Colab\"/></a>"
      ]
    },
    {
      "cell_type": "code",
      "metadata": {
        "id": "8R5zyzsbUyxL",
        "colab_type": "code",
        "colab": {}
      },
      "source": [
        "!pip3 install convokit\n",
        "!python3 -m spacy download en\n",
        "import nltk; nltk.download('punkt')"
      ],
      "execution_count": null,
      "outputs": []
    },
    {
      "cell_type": "code",
      "metadata": {
        "id": "UTjpl_rTVGwN",
        "colab_type": "code",
        "colab": {
          "base_uri": "https://localhost:8080/",
          "height": 72
        },
        "outputId": "c2448924-16c7-4546-8852-b7881ce41f24"
      },
      "source": [
        "import convokit\n",
        "from convokit import Corpus, download\n",
        "corpuses = []\n",
        "corpuses.append(Corpus(download('reddit-corpus-small')))\n",
        "#corpuses.append(Corpus(download('movie-corpus')))"
      ],
      "execution_count": 160,
      "outputs": [
        {
          "output_type": "stream",
          "text": [
            "Downloading reddit-corpus-small to /root/.convokit/downloads/reddit-corpus-small\n",
            "Downloading reddit-corpus-small from http://zissou.infosci.cornell.edu/convokit/datasets/subreddit-corpus/reddit-corpus-small.corpus.zip (37.9MB)... Done\n"
          ],
          "name": "stdout"
        }
      ]
    },
    {
      "cell_type": "code",
      "metadata": {
        "id": "jNEQeZtBmyfm",
        "colab_type": "code",
        "colab": {}
      },
      "source": [
        "my_paths = []\n",
        "for corpus in corpuses:\n",
        "  for convo in corpus.iter_conversations():\n",
        "    try:\n",
        "      paths = convo.get_root_to_leaf_paths()\n",
        "      for path in paths:\n",
        "        new_path = []\n",
        "        for utt in path:\n",
        "          text = re.sub(r'http\\S+', '', utt.text)\n",
        "          new_path.append(text)\n",
        "        my_paths.append(new_path)\n",
        "    except:\n",
        "      pass"
      ],
      "execution_count": 161,
      "outputs": []
    },
    {
      "cell_type": "code",
      "metadata": {
        "id": "TqBHx9aMoz_-",
        "colab_type": "code",
        "colab": {
          "base_uri": "https://localhost:8080/",
          "height": 49,
          "referenced_widgets": [
            "b92e729d49334f4b9cbe937975e3ff5b",
            "3ce8eaec04bc40129e108de1b89adf80",
            "375ab237d97e419fa168508656161e44",
            "58556441e52344e8afbe807fafa2d0fb",
            "e175a71ecc8b4ab489524d4147fc7cbc",
            "8c7028e9bb1b4b19812f67f8f8941b9c",
            "439442172e0d46e3b4ffea9e9918278f",
            "a00da15d266f464d87ce419a4c844cfa"
          ]
        },
        "outputId": "dc6e93c9-6113-4b9b-f125-690a366e85f5"
      },
      "source": [
        "from tqdm.auto import tqdm\n",
        "\n",
        "pairs = []\n",
        "for path in tqdm(my_paths):\n",
        "  i = 0\n",
        "  for i in range(len(path)-1):\n",
        "    history = path[:i+1]\n",
        "    response = path[i+1]\n",
        "    new_pair = (history, response)\n",
        "    if new_pair not in pairs and response!= '[deleted]':\n",
        "      pairs.append(new_pair)"
      ],
      "execution_count": null,
      "outputs": [
        {
          "output_type": "display_data",
          "data": {
            "application/vnd.jupyter.widget-view+json": {
              "model_id": "b92e729d49334f4b9cbe937975e3ff5b",
              "version_minor": 0,
              "version_major": 2
            },
            "text/plain": [
              "HBox(children=(FloatProgress(value=0.0, max=130437.0), HTML(value='')))"
            ]
          },
          "metadata": {
            "tags": []
          }
        }
      ]
    },
    {
      "cell_type": "code",
      "metadata": {
        "id": "PkneBRivE1jg",
        "colab_type": "code",
        "colab": {
          "base_uri": "https://localhost:8080/",
          "height": 67,
          "referenced_widgets": [
            "ab138dc093554a8d9e6656a4c7a19438",
            "fc31c021b4644f10abef75c85c28a56a",
            "4d05e92e24af4ee280f4c8222a3c9272",
            "56e1a038fe6d4f019af860a81c8821ec",
            "af63a6edbb0149a98d282a48822c2563",
            "8d7c2e2bcc034d5bb37c17068a224650",
            "d5477f25ac0a44a9a7a7f70719012a1c",
            "7c685efad2454369ae002aaaf0512509"
          ]
        },
        "outputId": "61600d94-f94b-4914-fb50-340114aa3cf0"
      },
      "source": [
        "data_rows = []\n",
        "for pair in tqdm(pairs):\n",
        "  new_row = {}\n",
        "  new_row['history'] = \" [SEP] \".join(pair[0])\n",
        "  new_row['knowledge'] = \"\"\n",
        "  new_row['response'] = pair[1]\n",
        "  data_rows.append(new_row)"
      ],
      "execution_count": 154,
      "outputs": [
        {
          "output_type": "display_data",
          "data": {
            "application/vnd.jupyter.widget-view+json": {
              "model_id": "ab138dc093554a8d9e6656a4c7a19438",
              "version_minor": 0,
              "version_major": 2
            },
            "text/plain": [
              "HBox(children=(FloatProgress(value=0.0, max=81905.0), HTML(value='')))"
            ]
          },
          "metadata": {
            "tags": []
          }
        },
        {
          "output_type": "stream",
          "text": [
            "\n"
          ],
          "name": "stdout"
        }
      ]
    },
    {
      "cell_type": "code",
      "metadata": {
        "id": "wfkwSntzFPRo",
        "colab_type": "code",
        "colab": {}
      },
      "source": [
        "import pandas as pd\n",
        "\n",
        "df = pd.DataFrame(data_rows)"
      ],
      "execution_count": 155,
      "outputs": []
    },
    {
      "cell_type": "code",
      "metadata": {
        "id": "DZmYCVlaFUsN",
        "colab_type": "code",
        "colab": {
          "base_uri": "https://localhost:8080/",
          "height": 423
        },
        "outputId": "64e578d5-2a76-490a-a572-f2fcd74ed8d6"
      },
      "source": [
        "df.tail(1000)"
      ],
      "execution_count": 159,
      "outputs": [
        {
          "output_type": "execute_result",
          "data": {
            "text/html": [
              "<div>\n",
              "<style scoped>\n",
              "    .dataframe tbody tr th:only-of-type {\n",
              "        vertical-align: middle;\n",
              "    }\n",
              "\n",
              "    .dataframe tbody tr th {\n",
              "        vertical-align: top;\n",
              "    }\n",
              "\n",
              "    .dataframe thead th {\n",
              "        text-align: right;\n",
              "    }\n",
              "</style>\n",
              "<table border=\"1\" class=\"dataframe\">\n",
              "  <thead>\n",
              "    <tr style=\"text-align: right;\">\n",
              "      <th></th>\n",
              "      <th>history</th>\n",
              "      <th>knowledge</th>\n",
              "      <th>response</th>\n",
              "    </tr>\n",
              "  </thead>\n",
              "  <tbody>\n",
              "    <tr>\n",
              "      <th>80905</th>\n",
              "      <td>It's okay.</td>\n",
              "      <td></td>\n",
              "      <td>Smile, little sister, smile.</td>\n",
              "    </tr>\n",
              "    <tr>\n",
              "      <th>80906</th>\n",
              "      <td>It isn't in your hands, Mama. It's my life.</td>\n",
              "      <td></td>\n",
              "      <td>Yes, but important people are concerned about ...</td>\n",
              "    </tr>\n",
              "    <tr>\n",
              "      <th>80907</th>\n",
              "      <td>It isn't in your hands, Mama. It's my life. [S...</td>\n",
              "      <td></td>\n",
              "      <td>I don't care.</td>\n",
              "    </tr>\n",
              "    <tr>\n",
              "      <th>80908</th>\n",
              "      <td>It isn't in your hands, Mama. It's my life. [S...</td>\n",
              "      <td></td>\n",
              "      <td>...You will.</td>\n",
              "    </tr>\n",
              "    <tr>\n",
              "      <th>80909</th>\n",
              "      <td>I'll pay your way to New York. I'll work, I'll...</td>\n",
              "      <td></td>\n",
              "      <td>Oh, Mama, don't you understand?</td>\n",
              "    </tr>\n",
              "    <tr>\n",
              "      <th>...</th>\n",
              "      <td>...</td>\n",
              "      <td>...</td>\n",
              "      <td>...</td>\n",
              "    </tr>\n",
              "    <tr>\n",
              "      <th>81900</th>\n",
              "      <td>All I wanted was an honest chance. And If I co...</td>\n",
              "      <td></td>\n",
              "      <td>The Chief?  Or maybe even Turrentine?  Your C.O.?</td>\n",
              "    </tr>\n",
              "    <tr>\n",
              "      <th>81901</th>\n",
              "      <td>So why are you telling me this?</td>\n",
              "      <td></td>\n",
              "      <td>Big symbols make big targets, Jordan.  I think...</td>\n",
              "    </tr>\n",
              "    <tr>\n",
              "      <th>81902</th>\n",
              "      <td>So why are you telling me this? [SEP] Big symb...</td>\n",
              "      <td></td>\n",
              "      <td>You know, Royce, I got enough heat on me witho...</td>\n",
              "    </tr>\n",
              "    <tr>\n",
              "      <th>81903</th>\n",
              "      <td>So why are you telling me this? [SEP] Big symb...</td>\n",
              "      <td></td>\n",
              "      <td>I'm only trying to warn you in case --</td>\n",
              "    </tr>\n",
              "    <tr>\n",
              "      <th>81904</th>\n",
              "      <td>So why are you telling me this? [SEP] Big symb...</td>\n",
              "      <td></td>\n",
              "      <td>Well, let me warm you:  I'm going though with ...</td>\n",
              "    </tr>\n",
              "  </tbody>\n",
              "</table>\n",
              "<p>1000 rows × 3 columns</p>\n",
              "</div>"
            ],
            "text/plain": [
              "                                                 history  ...                                           response\n",
              "80905                                         It's okay.  ...                       Smile, little sister, smile.\n",
              "80906        It isn't in your hands, Mama. It's my life.  ...  Yes, but important people are concerned about ...\n",
              "80907  It isn't in your hands, Mama. It's my life. [S...  ...                                      I don't care.\n",
              "80908  It isn't in your hands, Mama. It's my life. [S...  ...                                       ...You will.\n",
              "80909  I'll pay your way to New York. I'll work, I'll...  ...                    Oh, Mama, don't you understand?\n",
              "...                                                  ...  ...                                                ...\n",
              "81900  All I wanted was an honest chance. And If I co...  ...  The Chief?  Or maybe even Turrentine?  Your C.O.?\n",
              "81901                    So why are you telling me this?  ...  Big symbols make big targets, Jordan.  I think...\n",
              "81902  So why are you telling me this? [SEP] Big symb...  ...  You know, Royce, I got enough heat on me witho...\n",
              "81903  So why are you telling me this? [SEP] Big symb...  ...             I'm only trying to warn you in case --\n",
              "81904  So why are you telling me this? [SEP] Big symb...  ...  Well, let me warm you:  I'm going though with ...\n",
              "\n",
              "[1000 rows x 3 columns]"
            ]
          },
          "metadata": {
            "tags": []
          },
          "execution_count": 159
        }
      ]
    }
  ]
}
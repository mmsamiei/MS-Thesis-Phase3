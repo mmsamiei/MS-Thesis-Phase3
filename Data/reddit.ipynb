{
  "nbformat": 4,
  "nbformat_minor": 0,
  "metadata": {
    "colab": {
      "name": "Untitled175.ipynb",
      "provenance": [],
      "mount_file_id": "1uq8wDkJLiFsbTpUyQZGrRpnLF90CiT_z",
      "authorship_tag": "ABX9TyMTtTUygw6aA47hkowhpaYz",
      "include_colab_link": true
    },
    "kernelspec": {
      "name": "python3",
      "display_name": "Python 3"
    },
    "widgets": {
      "application/vnd.jupyter.widget-state+json": {
        "b92e729d49334f4b9cbe937975e3ff5b": {
          "model_module": "@jupyter-widgets/controls",
          "model_name": "HBoxModel",
          "state": {
            "_view_name": "HBoxView",
            "_dom_classes": [],
            "_model_name": "HBoxModel",
            "_view_module": "@jupyter-widgets/controls",
            "_model_module_version": "1.5.0",
            "_view_count": null,
            "_view_module_version": "1.5.0",
            "box_style": "",
            "layout": "IPY_MODEL_3ce8eaec04bc40129e108de1b89adf80",
            "_model_module": "@jupyter-widgets/controls",
            "children": [
              "IPY_MODEL_375ab237d97e419fa168508656161e44",
              "IPY_MODEL_58556441e52344e8afbe807fafa2d0fb"
            ]
          }
        },
        "3ce8eaec04bc40129e108de1b89adf80": {
          "model_module": "@jupyter-widgets/base",
          "model_name": "LayoutModel",
          "state": {
            "_view_name": "LayoutView",
            "grid_template_rows": null,
            "right": null,
            "justify_content": null,
            "_view_module": "@jupyter-widgets/base",
            "overflow": null,
            "_model_module_version": "1.2.0",
            "_view_count": null,
            "flex_flow": null,
            "width": null,
            "min_width": null,
            "border": null,
            "align_items": null,
            "bottom": null,
            "_model_module": "@jupyter-widgets/base",
            "top": null,
            "grid_column": null,
            "overflow_y": null,
            "overflow_x": null,
            "grid_auto_flow": null,
            "grid_area": null,
            "grid_template_columns": null,
            "flex": null,
            "_model_name": "LayoutModel",
            "justify_items": null,
            "grid_row": null,
            "max_height": null,
            "align_content": null,
            "visibility": null,
            "align_self": null,
            "height": null,
            "min_height": null,
            "padding": null,
            "grid_auto_rows": null,
            "grid_gap": null,
            "max_width": null,
            "order": null,
            "_view_module_version": "1.2.0",
            "grid_template_areas": null,
            "object_position": null,
            "object_fit": null,
            "grid_auto_columns": null,
            "margin": null,
            "display": null,
            "left": null
          }
        },
        "375ab237d97e419fa168508656161e44": {
          "model_module": "@jupyter-widgets/controls",
          "model_name": "FloatProgressModel",
          "state": {
            "_view_name": "ProgressView",
            "style": "IPY_MODEL_e175a71ecc8b4ab489524d4147fc7cbc",
            "_dom_classes": [],
            "description": "100%",
            "_model_name": "FloatProgressModel",
            "bar_style": "success",
            "max": 130437,
            "_view_module": "@jupyter-widgets/controls",
            "_model_module_version": "1.5.0",
            "value": 130437,
            "_view_count": null,
            "_view_module_version": "1.5.0",
            "orientation": "horizontal",
            "min": 0,
            "description_tooltip": null,
            "_model_module": "@jupyter-widgets/controls",
            "layout": "IPY_MODEL_8c7028e9bb1b4b19812f67f8f8941b9c"
          }
        },
        "58556441e52344e8afbe807fafa2d0fb": {
          "model_module": "@jupyter-widgets/controls",
          "model_name": "HTMLModel",
          "state": {
            "_view_name": "HTMLView",
            "style": "IPY_MODEL_439442172e0d46e3b4ffea9e9918278f",
            "_dom_classes": [],
            "description": "",
            "_model_name": "HTMLModel",
            "placeholder": "​",
            "_view_module": "@jupyter-widgets/controls",
            "_model_module_version": "1.5.0",
            "value": " 130437/130437 [1:39:24&lt;00:00, 21.87it/s]",
            "_view_count": null,
            "_view_module_version": "1.5.0",
            "description_tooltip": null,
            "_model_module": "@jupyter-widgets/controls",
            "layout": "IPY_MODEL_a00da15d266f464d87ce419a4c844cfa"
          }
        },
        "e175a71ecc8b4ab489524d4147fc7cbc": {
          "model_module": "@jupyter-widgets/controls",
          "model_name": "ProgressStyleModel",
          "state": {
            "_view_name": "StyleView",
            "_model_name": "ProgressStyleModel",
            "description_width": "initial",
            "_view_module": "@jupyter-widgets/base",
            "_model_module_version": "1.5.0",
            "_view_count": null,
            "_view_module_version": "1.2.0",
            "bar_color": null,
            "_model_module": "@jupyter-widgets/controls"
          }
        },
        "8c7028e9bb1b4b19812f67f8f8941b9c": {
          "model_module": "@jupyter-widgets/base",
          "model_name": "LayoutModel",
          "state": {
            "_view_name": "LayoutView",
            "grid_template_rows": null,
            "right": null,
            "justify_content": null,
            "_view_module": "@jupyter-widgets/base",
            "overflow": null,
            "_model_module_version": "1.2.0",
            "_view_count": null,
            "flex_flow": null,
            "width": null,
            "min_width": null,
            "border": null,
            "align_items": null,
            "bottom": null,
            "_model_module": "@jupyter-widgets/base",
            "top": null,
            "grid_column": null,
            "overflow_y": null,
            "overflow_x": null,
            "grid_auto_flow": null,
            "grid_area": null,
            "grid_template_columns": null,
            "flex": null,
            "_model_name": "LayoutModel",
            "justify_items": null,
            "grid_row": null,
            "max_height": null,
            "align_content": null,
            "visibility": null,
            "align_self": null,
            "height": null,
            "min_height": null,
            "padding": null,
            "grid_auto_rows": null,
            "grid_gap": null,
            "max_width": null,
            "order": null,
            "_view_module_version": "1.2.0",
            "grid_template_areas": null,
            "object_position": null,
            "object_fit": null,
            "grid_auto_columns": null,
            "margin": null,
            "display": null,
            "left": null
          }
        },
        "439442172e0d46e3b4ffea9e9918278f": {
          "model_module": "@jupyter-widgets/controls",
          "model_name": "DescriptionStyleModel",
          "state": {
            "_view_name": "StyleView",
            "_model_name": "DescriptionStyleModel",
            "description_width": "",
            "_view_module": "@jupyter-widgets/base",
            "_model_module_version": "1.5.0",
            "_view_count": null,
            "_view_module_version": "1.2.0",
            "_model_module": "@jupyter-widgets/controls"
          }
        },
        "a00da15d266f464d87ce419a4c844cfa": {
          "model_module": "@jupyter-widgets/base",
          "model_name": "LayoutModel",
          "state": {
            "_view_name": "LayoutView",
            "grid_template_rows": null,
            "right": null,
            "justify_content": null,
            "_view_module": "@jupyter-widgets/base",
            "overflow": null,
            "_model_module_version": "1.2.0",
            "_view_count": null,
            "flex_flow": null,
            "width": null,
            "min_width": null,
            "border": null,
            "align_items": null,
            "bottom": null,
            "_model_module": "@jupyter-widgets/base",
            "top": null,
            "grid_column": null,
            "overflow_y": null,
            "overflow_x": null,
            "grid_auto_flow": null,
            "grid_area": null,
            "grid_template_columns": null,
            "flex": null,
            "_model_name": "LayoutModel",
            "justify_items": null,
            "grid_row": null,
            "max_height": null,
            "align_content": null,
            "visibility": null,
            "align_self": null,
            "height": null,
            "min_height": null,
            "padding": null,
            "grid_auto_rows": null,
            "grid_gap": null,
            "max_width": null,
            "order": null,
            "_view_module_version": "1.2.0",
            "grid_template_areas": null,
            "object_position": null,
            "object_fit": null,
            "grid_auto_columns": null,
            "margin": null,
            "display": null,
            "left": null
          }
        },
        "96a90c714f8743bab49c22d3e5126930": {
          "model_module": "@jupyter-widgets/controls",
          "model_name": "HBoxModel",
          "state": {
            "_view_name": "HBoxView",
            "_dom_classes": [],
            "_model_name": "HBoxModel",
            "_view_module": "@jupyter-widgets/controls",
            "_model_module_version": "1.5.0",
            "_view_count": null,
            "_view_module_version": "1.5.0",
            "box_style": "",
            "layout": "IPY_MODEL_7aa31692077f42fc818bfc75f6cb4a77",
            "_model_module": "@jupyter-widgets/controls",
            "children": [
              "IPY_MODEL_db849fc44667425abff2ed9ddc66ba8c",
              "IPY_MODEL_ac6d5e66096148599931995e010dc420"
            ]
          }
        },
        "7aa31692077f42fc818bfc75f6cb4a77": {
          "model_module": "@jupyter-widgets/base",
          "model_name": "LayoutModel",
          "state": {
            "_view_name": "LayoutView",
            "grid_template_rows": null,
            "right": null,
            "justify_content": null,
            "_view_module": "@jupyter-widgets/base",
            "overflow": null,
            "_model_module_version": "1.2.0",
            "_view_count": null,
            "flex_flow": null,
            "width": null,
            "min_width": null,
            "border": null,
            "align_items": null,
            "bottom": null,
            "_model_module": "@jupyter-widgets/base",
            "top": null,
            "grid_column": null,
            "overflow_y": null,
            "overflow_x": null,
            "grid_auto_flow": null,
            "grid_area": null,
            "grid_template_columns": null,
            "flex": null,
            "_model_name": "LayoutModel",
            "justify_items": null,
            "grid_row": null,
            "max_height": null,
            "align_content": null,
            "visibility": null,
            "align_self": null,
            "height": null,
            "min_height": null,
            "padding": null,
            "grid_auto_rows": null,
            "grid_gap": null,
            "max_width": null,
            "order": null,
            "_view_module_version": "1.2.0",
            "grid_template_areas": null,
            "object_position": null,
            "object_fit": null,
            "grid_auto_columns": null,
            "margin": null,
            "display": null,
            "left": null
          }
        },
        "db849fc44667425abff2ed9ddc66ba8c": {
          "model_module": "@jupyter-widgets/controls",
          "model_name": "FloatProgressModel",
          "state": {
            "_view_name": "ProgressView",
            "style": "IPY_MODEL_35fb4187a43a40e1bf2f6db9a3e6057a",
            "_dom_classes": [],
            "description": "100%",
            "_model_name": "FloatProgressModel",
            "bar_style": "success",
            "max": 269508,
            "_view_module": "@jupyter-widgets/controls",
            "_model_module_version": "1.5.0",
            "value": 269508,
            "_view_count": null,
            "_view_module_version": "1.5.0",
            "orientation": "horizontal",
            "min": 0,
            "description_tooltip": null,
            "_model_module": "@jupyter-widgets/controls",
            "layout": "IPY_MODEL_77b27e0949204ba9baae6ee44736fe62"
          }
        },
        "ac6d5e66096148599931995e010dc420": {
          "model_module": "@jupyter-widgets/controls",
          "model_name": "HTMLModel",
          "state": {
            "_view_name": "HTMLView",
            "style": "IPY_MODEL_643cb66f605d4ff7b7fcfa52ad963349",
            "_dom_classes": [],
            "description": "",
            "_model_name": "HTMLModel",
            "placeholder": "​",
            "_view_module": "@jupyter-widgets/controls",
            "_model_module_version": "1.5.0",
            "value": " 269508/269508 [00:01&lt;00:00, 221275.63it/s]",
            "_view_count": null,
            "_view_module_version": "1.5.0",
            "description_tooltip": null,
            "_model_module": "@jupyter-widgets/controls",
            "layout": "IPY_MODEL_ea8e785c023a45e9bc26001fb04557bf"
          }
        },
        "35fb4187a43a40e1bf2f6db9a3e6057a": {
          "model_module": "@jupyter-widgets/controls",
          "model_name": "ProgressStyleModel",
          "state": {
            "_view_name": "StyleView",
            "_model_name": "ProgressStyleModel",
            "description_width": "initial",
            "_view_module": "@jupyter-widgets/base",
            "_model_module_version": "1.5.0",
            "_view_count": null,
            "_view_module_version": "1.2.0",
            "bar_color": null,
            "_model_module": "@jupyter-widgets/controls"
          }
        },
        "77b27e0949204ba9baae6ee44736fe62": {
          "model_module": "@jupyter-widgets/base",
          "model_name": "LayoutModel",
          "state": {
            "_view_name": "LayoutView",
            "grid_template_rows": null,
            "right": null,
            "justify_content": null,
            "_view_module": "@jupyter-widgets/base",
            "overflow": null,
            "_model_module_version": "1.2.0",
            "_view_count": null,
            "flex_flow": null,
            "width": null,
            "min_width": null,
            "border": null,
            "align_items": null,
            "bottom": null,
            "_model_module": "@jupyter-widgets/base",
            "top": null,
            "grid_column": null,
            "overflow_y": null,
            "overflow_x": null,
            "grid_auto_flow": null,
            "grid_area": null,
            "grid_template_columns": null,
            "flex": null,
            "_model_name": "LayoutModel",
            "justify_items": null,
            "grid_row": null,
            "max_height": null,
            "align_content": null,
            "visibility": null,
            "align_self": null,
            "height": null,
            "min_height": null,
            "padding": null,
            "grid_auto_rows": null,
            "grid_gap": null,
            "max_width": null,
            "order": null,
            "_view_module_version": "1.2.0",
            "grid_template_areas": null,
            "object_position": null,
            "object_fit": null,
            "grid_auto_columns": null,
            "margin": null,
            "display": null,
            "left": null
          }
        },
        "643cb66f605d4ff7b7fcfa52ad963349": {
          "model_module": "@jupyter-widgets/controls",
          "model_name": "DescriptionStyleModel",
          "state": {
            "_view_name": "StyleView",
            "_model_name": "DescriptionStyleModel",
            "description_width": "",
            "_view_module": "@jupyter-widgets/base",
            "_model_module_version": "1.5.0",
            "_view_count": null,
            "_view_module_version": "1.2.0",
            "_model_module": "@jupyter-widgets/controls"
          }
        },
        "ea8e785c023a45e9bc26001fb04557bf": {
          "model_module": "@jupyter-widgets/base",
          "model_name": "LayoutModel",
          "state": {
            "_view_name": "LayoutView",
            "grid_template_rows": null,
            "right": null,
            "justify_content": null,
            "_view_module": "@jupyter-widgets/base",
            "overflow": null,
            "_model_module_version": "1.2.0",
            "_view_count": null,
            "flex_flow": null,
            "width": null,
            "min_width": null,
            "border": null,
            "align_items": null,
            "bottom": null,
            "_model_module": "@jupyter-widgets/base",
            "top": null,
            "grid_column": null,
            "overflow_y": null,
            "overflow_x": null,
            "grid_auto_flow": null,
            "grid_area": null,
            "grid_template_columns": null,
            "flex": null,
            "_model_name": "LayoutModel",
            "justify_items": null,
            "grid_row": null,
            "max_height": null,
            "align_content": null,
            "visibility": null,
            "align_self": null,
            "height": null,
            "min_height": null,
            "padding": null,
            "grid_auto_rows": null,
            "grid_gap": null,
            "max_width": null,
            "order": null,
            "_view_module_version": "1.2.0",
            "grid_template_areas": null,
            "object_position": null,
            "object_fit": null,
            "grid_auto_columns": null,
            "margin": null,
            "display": null,
            "left": null
          }
        }
      }
    }
  },
  "cells": [
    {
      "cell_type": "markdown",
      "metadata": {
        "id": "view-in-github",
        "colab_type": "text"
      },
      "source": [
        "<a href=\"https://colab.research.google.com/github/mmsamiei/MS-Thesis-Phase3/blob/master/Data/reddit.ipynb\" target=\"_parent\"><img src=\"https://colab.research.google.com/assets/colab-badge.svg\" alt=\"Open In Colab\"/></a>"
      ]
    },
    {
      "cell_type": "code",
      "metadata": {
        "id": "8R5zyzsbUyxL",
        "colab_type": "code",
        "colab": {}
      },
      "source": [
        "!pip3 install convokit\n",
        "!python3 -m spacy download en\n",
        "import nltk; nltk.download('punkt')"
      ],
      "execution_count": null,
      "outputs": []
    },
    {
      "cell_type": "code",
      "metadata": {
        "id": "UTjpl_rTVGwN",
        "colab_type": "code",
        "colab": {
          "base_uri": "https://localhost:8080/",
          "height": 72
        },
        "outputId": "c2448924-16c7-4546-8852-b7881ce41f24"
      },
      "source": [
        "import convokit\n",
        "from convokit import Corpus, download\n",
        "corpuses = []\n",
        "corpuses.append(Corpus(download('reddit-corpus-small')))\n",
        "#corpuses.append(Corpus(download('movie-corpus')))"
      ],
      "execution_count": 160,
      "outputs": [
        {
          "output_type": "stream",
          "text": [
            "Downloading reddit-corpus-small to /root/.convokit/downloads/reddit-corpus-small\n",
            "Downloading reddit-corpus-small from http://zissou.infosci.cornell.edu/convokit/datasets/subreddit-corpus/reddit-corpus-small.corpus.zip (37.9MB)... Done\n"
          ],
          "name": "stdout"
        }
      ]
    },
    {
      "cell_type": "code",
      "metadata": {
        "id": "jNEQeZtBmyfm",
        "colab_type": "code",
        "colab": {}
      },
      "source": [
        "my_paths = []\n",
        "for corpus in corpuses:\n",
        "  for convo in corpus.iter_conversations():\n",
        "    try:\n",
        "      paths = convo.get_root_to_leaf_paths()\n",
        "      for path in paths:\n",
        "        new_path = []\n",
        "        for utt in path:\n",
        "          text = re.sub(r'http\\S+', '', utt.text)\n",
        "          new_path.append(text)\n",
        "        my_paths.append(new_path)\n",
        "    except:\n",
        "      pass"
      ],
      "execution_count": 161,
      "outputs": []
    },
    {
      "cell_type": "code",
      "metadata": {
        "id": "TqBHx9aMoz_-",
        "colab_type": "code",
        "colab": {
          "base_uri": "https://localhost:8080/",
          "height": 67,
          "referenced_widgets": [
            "b92e729d49334f4b9cbe937975e3ff5b",
            "3ce8eaec04bc40129e108de1b89adf80",
            "375ab237d97e419fa168508656161e44",
            "58556441e52344e8afbe807fafa2d0fb",
            "e175a71ecc8b4ab489524d4147fc7cbc",
            "8c7028e9bb1b4b19812f67f8f8941b9c",
            "439442172e0d46e3b4ffea9e9918278f",
            "a00da15d266f464d87ce419a4c844cfa"
          ]
        },
        "outputId": "dc6e93c9-6113-4b9b-f125-690a366e85f5"
      },
      "source": [
        "from tqdm.auto import tqdm\n",
        "\n",
        "pairs = []\n",
        "for path in tqdm(my_paths):\n",
        "  i = 0\n",
        "  for i in range(len(path)-1):\n",
        "    history = path[:i+1]\n",
        "    response = path[i+1]\n",
        "    new_pair = (history, response)\n",
        "    if new_pair not in pairs and response!= '[deleted]':\n",
        "      pairs.append(new_pair)"
      ],
      "execution_count": 162,
      "outputs": [
        {
          "output_type": "display_data",
          "data": {
            "application/vnd.jupyter.widget-view+json": {
              "model_id": "b92e729d49334f4b9cbe937975e3ff5b",
              "version_minor": 0,
              "version_major": 2
            },
            "text/plain": [
              "HBox(children=(FloatProgress(value=0.0, max=130437.0), HTML(value='')))"
            ]
          },
          "metadata": {
            "tags": []
          }
        },
        {
          "output_type": "stream",
          "text": [
            "\n"
          ],
          "name": "stdout"
        }
      ]
    },
    {
      "cell_type": "code",
      "metadata": {
        "id": "PkneBRivE1jg",
        "colab_type": "code",
        "colab": {
          "base_uri": "https://localhost:8080/",
          "height": 67,
          "referenced_widgets": [
            "96a90c714f8743bab49c22d3e5126930",
            "7aa31692077f42fc818bfc75f6cb4a77",
            "db849fc44667425abff2ed9ddc66ba8c",
            "ac6d5e66096148599931995e010dc420",
            "35fb4187a43a40e1bf2f6db9a3e6057a",
            "77b27e0949204ba9baae6ee44736fe62",
            "643cb66f605d4ff7b7fcfa52ad963349",
            "ea8e785c023a45e9bc26001fb04557bf"
          ]
        },
        "outputId": "cba62d12-d51a-44fc-c67c-016e068c92f5"
      },
      "source": [
        "data_rows = []\n",
        "for pair in tqdm(pairs):\n",
        "  new_row = {}\n",
        "  new_row['history'] = \" [SEP] \".join(pair[0])\n",
        "  new_row['knowledge'] = \"\"\n",
        "  new_row['response'] = pair[1]\n",
        "  data_rows.append(new_row)"
      ],
      "execution_count": 163,
      "outputs": [
        {
          "output_type": "display_data",
          "data": {
            "application/vnd.jupyter.widget-view+json": {
              "model_id": "96a90c714f8743bab49c22d3e5126930",
              "version_minor": 0,
              "version_major": 2
            },
            "text/plain": [
              "HBox(children=(FloatProgress(value=0.0, max=269508.0), HTML(value='')))"
            ]
          },
          "metadata": {
            "tags": []
          }
        },
        {
          "output_type": "stream",
          "text": [
            "\n"
          ],
          "name": "stdout"
        }
      ]
    },
    {
      "cell_type": "code",
      "metadata": {
        "id": "wfkwSntzFPRo",
        "colab_type": "code",
        "colab": {}
      },
      "source": [
        "import pandas as pd\n",
        "\n",
        "df = pd.DataFrame(data_rows)"
      ],
      "execution_count": 164,
      "outputs": []
    },
    {
      "cell_type": "code",
      "metadata": {
        "id": "DZmYCVlaFUsN",
        "colab_type": "code",
        "colab": {
          "base_uri": "https://localhost:8080/",
          "height": 423
        },
        "outputId": "50659ab4-36f5-4de5-e43d-d3c53836f30b"
      },
      "source": [
        "df.tail(1000)"
      ],
      "execution_count": 165,
      "outputs": [
        {
          "output_type": "execute_result",
          "data": {
            "text/html": [
              "<div>\n",
              "<style scoped>\n",
              "    .dataframe tbody tr th:only-of-type {\n",
              "        vertical-align: middle;\n",
              "    }\n",
              "\n",
              "    .dataframe tbody tr th {\n",
              "        vertical-align: top;\n",
              "    }\n",
              "\n",
              "    .dataframe thead th {\n",
              "        text-align: right;\n",
              "    }\n",
              "</style>\n",
              "<table border=\"1\" class=\"dataframe\">\n",
              "  <thead>\n",
              "    <tr style=\"text-align: right;\">\n",
              "      <th></th>\n",
              "      <th>history</th>\n",
              "      <th>knowledge</th>\n",
              "      <th>response</th>\n",
              "    </tr>\n",
              "  </thead>\n",
              "  <tbody>\n",
              "    <tr>\n",
              "      <th>268508</th>\n",
              "      <td>[SEP] And I wonder why I get down voted for s...</td>\n",
              "      <td></td>\n",
              "      <td>At the very least she could pin down the schoo...</td>\n",
              "    </tr>\n",
              "    <tr>\n",
              "      <th>268509</th>\n",
              "      <td>[SEP] And I wonder why I get down voted for s...</td>\n",
              "      <td></td>\n",
              "      <td>Dude. Think about this for several minutes. \\n...</td>\n",
              "    </tr>\n",
              "    <tr>\n",
              "      <th>268510</th>\n",
              "      <td>[SEP] And I wonder why I get down voted for s...</td>\n",
              "      <td></td>\n",
              "      <td>Which stills allows you to narrow it down if y...</td>\n",
              "    </tr>\n",
              "    <tr>\n",
              "      <th>268511</th>\n",
              "      <td>[SEP] And I wonder why I get down voted for s...</td>\n",
              "      <td></td>\n",
              "      <td>Again, you actually need to think about this f...</td>\n",
              "    </tr>\n",
              "    <tr>\n",
              "      <th>268512</th>\n",
              "      <td>[SEP] And I wonder why I get down voted for s...</td>\n",
              "      <td></td>\n",
              "      <td>And that she could remember that but not the y...</td>\n",
              "    </tr>\n",
              "    <tr>\n",
              "      <th>...</th>\n",
              "      <td>...</td>\n",
              "      <td>...</td>\n",
              "      <td>...</td>\n",
              "    </tr>\n",
              "    <tr>\n",
              "      <th>269503</th>\n",
              "      <td>[SEP] Roads make my personal short list of ac...</td>\n",
              "      <td></td>\n",
              "      <td>&amp;gt; But heh, I'm sure you have a perfect free...</td>\n",
              "    </tr>\n",
              "    <tr>\n",
              "      <th>269504</th>\n",
              "      <td>[SEP] Roads make my personal short list of ac...</td>\n",
              "      <td></td>\n",
              "      <td>Statist.</td>\n",
              "    </tr>\n",
              "    <tr>\n",
              "      <th>269505</th>\n",
              "      <td>[SEP] Roads make my personal short list of ac...</td>\n",
              "      <td></td>\n",
              "      <td>My what an insightful, thought provoking comme...</td>\n",
              "    </tr>\n",
              "    <tr>\n",
              "      <th>269506</th>\n",
              "      <td>[SEP] Roads make my personal short list of ac...</td>\n",
              "      <td></td>\n",
              "      <td>A few people got the joke.  You weren't one of...</td>\n",
              "    </tr>\n",
              "    <tr>\n",
              "      <th>269507</th>\n",
              "      <td>[SEP] Roads make my personal short list of ac...</td>\n",
              "      <td></td>\n",
              "      <td>Sorry about that man, on this sub it really co...</td>\n",
              "    </tr>\n",
              "  </tbody>\n",
              "</table>\n",
              "<p>1000 rows × 3 columns</p>\n",
              "</div>"
            ],
            "text/plain": [
              "                                                  history  ...                                           response\n",
              "268508   [SEP] And I wonder why I get down voted for s...  ...  At the very least she could pin down the schoo...\n",
              "268509   [SEP] And I wonder why I get down voted for s...  ...  Dude. Think about this for several minutes. \\n...\n",
              "268510   [SEP] And I wonder why I get down voted for s...  ...  Which stills allows you to narrow it down if y...\n",
              "268511   [SEP] And I wonder why I get down voted for s...  ...  Again, you actually need to think about this f...\n",
              "268512   [SEP] And I wonder why I get down voted for s...  ...  And that she could remember that but not the y...\n",
              "...                                                   ...  ...                                                ...\n",
              "269503   [SEP] Roads make my personal short list of ac...  ...  &gt; But heh, I'm sure you have a perfect free...\n",
              "269504   [SEP] Roads make my personal short list of ac...  ...                                           Statist.\n",
              "269505   [SEP] Roads make my personal short list of ac...  ...  My what an insightful, thought provoking comme...\n",
              "269506   [SEP] Roads make my personal short list of ac...  ...  A few people got the joke.  You weren't one of...\n",
              "269507   [SEP] Roads make my personal short list of ac...  ...  Sorry about that man, on this sub it really co...\n",
              "\n",
              "[1000 rows x 3 columns]"
            ]
          },
          "metadata": {
            "tags": []
          },
          "execution_count": 165
        }
      ]
    },
    {
      "cell_type": "code",
      "metadata": {
        "id": "KDC74MVrqk3I",
        "colab_type": "code",
        "colab": {}
      },
      "source": [
        "df.to_csv('/content/drive/My Drive/Thesis/phase-3/reddit_small.csv')"
      ],
      "execution_count": 166,
      "outputs": []
    },
    {
      "cell_type": "code",
      "metadata": {
        "id": "yJSfCgsLqxsm",
        "colab_type": "code",
        "colab": {}
      },
      "source": [
        "df2 = pd.read_csv('/content/drive/My Drive/Thesis/phase-3/reddit_small.csv')"
      ],
      "execution_count": 167,
      "outputs": []
    },
    {
      "cell_type": "code",
      "metadata": {
        "id": "ve4DJgHJrA0E",
        "colab_type": "code",
        "colab": {
          "base_uri": "https://localhost:8080/",
          "height": 614
        },
        "outputId": "c903d7c5-b951-4c93-e88a-75c01b8a16a0"
      },
      "source": [
        "df2"
      ],
      "execution_count": 168,
      "outputs": [
        {
          "output_type": "execute_result",
          "data": {
            "text/html": [
              "<div>\n",
              "<style scoped>\n",
              "    .dataframe tbody tr th:only-of-type {\n",
              "        vertical-align: middle;\n",
              "    }\n",
              "\n",
              "    .dataframe tbody tr th {\n",
              "        vertical-align: top;\n",
              "    }\n",
              "\n",
              "    .dataframe thead th {\n",
              "        text-align: right;\n",
              "    }\n",
              "</style>\n",
              "<table border=\"1\" class=\"dataframe\">\n",
              "  <thead>\n",
              "    <tr style=\"text-align: right;\">\n",
              "      <th></th>\n",
              "      <th>Unnamed: 0</th>\n",
              "      <th>history</th>\n",
              "      <th>knowledge</th>\n",
              "      <th>response</th>\n",
              "    </tr>\n",
              "  </thead>\n",
              "  <tbody>\n",
              "    <tr>\n",
              "      <th>0</th>\n",
              "      <td>0</td>\n",
              "      <td>Talk about your day. Anything goes, but subred...</td>\n",
              "      <td>NaN</td>\n",
              "      <td>How to spoil a kpop fangirl's day. Tell her yo...</td>\n",
              "    </tr>\n",
              "    <tr>\n",
              "      <th>1</th>\n",
              "      <td>1</td>\n",
              "      <td>Talk about your day. Anything goes, but subred...</td>\n",
              "      <td>NaN</td>\n",
              "      <td>His \"candid\" pics look better leh</td>\n",
              "    </tr>\n",
              "    <tr>\n",
              "      <th>2</th>\n",
              "      <td>2</td>\n",
              "      <td>Talk about your day. Anything goes, but subred...</td>\n",
              "      <td>NaN</td>\n",
              "      <td>wat.. he looks like a random extra in a JAV</td>\n",
              "    </tr>\n",
              "    <tr>\n",
              "      <th>3</th>\n",
              "      <td>3</td>\n",
              "      <td>Talk about your day. Anything goes, but subred...</td>\n",
              "      <td>NaN</td>\n",
              "      <td>“Hi Kpop girl can I send you a pic of g-dragon...</td>\n",
              "    </tr>\n",
              "    <tr>\n",
              "      <th>4</th>\n",
              "      <td>4</td>\n",
              "      <td>Talk about your day. Anything goes, but subred...</td>\n",
              "      <td>NaN</td>\n",
              "      <td>I'm sorry if that's how your interactions with...</td>\n",
              "    </tr>\n",
              "    <tr>\n",
              "      <th>...</th>\n",
              "      <td>...</td>\n",
              "      <td>...</td>\n",
              "      <td>...</td>\n",
              "      <td>...</td>\n",
              "    </tr>\n",
              "    <tr>\n",
              "      <th>269503</th>\n",
              "      <td>269503</td>\n",
              "      <td>[SEP] Roads make my personal short list of ac...</td>\n",
              "      <td>NaN</td>\n",
              "      <td>&amp;gt; But heh, I'm sure you have a perfect free...</td>\n",
              "    </tr>\n",
              "    <tr>\n",
              "      <th>269504</th>\n",
              "      <td>269504</td>\n",
              "      <td>[SEP] Roads make my personal short list of ac...</td>\n",
              "      <td>NaN</td>\n",
              "      <td>Statist.</td>\n",
              "    </tr>\n",
              "    <tr>\n",
              "      <th>269505</th>\n",
              "      <td>269505</td>\n",
              "      <td>[SEP] Roads make my personal short list of ac...</td>\n",
              "      <td>NaN</td>\n",
              "      <td>My what an insightful, thought provoking comme...</td>\n",
              "    </tr>\n",
              "    <tr>\n",
              "      <th>269506</th>\n",
              "      <td>269506</td>\n",
              "      <td>[SEP] Roads make my personal short list of ac...</td>\n",
              "      <td>NaN</td>\n",
              "      <td>A few people got the joke.  You weren't one of...</td>\n",
              "    </tr>\n",
              "    <tr>\n",
              "      <th>269507</th>\n",
              "      <td>269507</td>\n",
              "      <td>[SEP] Roads make my personal short list of ac...</td>\n",
              "      <td>NaN</td>\n",
              "      <td>Sorry about that man, on this sub it really co...</td>\n",
              "    </tr>\n",
              "  </tbody>\n",
              "</table>\n",
              "<p>269508 rows × 4 columns</p>\n",
              "</div>"
            ],
            "text/plain": [
              "        Unnamed: 0  ...                                           response\n",
              "0                0  ...  How to spoil a kpop fangirl's day. Tell her yo...\n",
              "1                1  ...                  His \"candid\" pics look better leh\n",
              "2                2  ...        wat.. he looks like a random extra in a JAV\n",
              "3                3  ...  “Hi Kpop girl can I send you a pic of g-dragon...\n",
              "4                4  ...  I'm sorry if that's how your interactions with...\n",
              "...            ...  ...                                                ...\n",
              "269503      269503  ...  &gt; But heh, I'm sure you have a perfect free...\n",
              "269504      269504  ...                                           Statist.\n",
              "269505      269505  ...  My what an insightful, thought provoking comme...\n",
              "269506      269506  ...  A few people got the joke.  You weren't one of...\n",
              "269507      269507  ...  Sorry about that man, on this sub it really co...\n",
              "\n",
              "[269508 rows x 4 columns]"
            ]
          },
          "metadata": {
            "tags": []
          },
          "execution_count": 168
        }
      ]
    },
    {
      "cell_type": "code",
      "metadata": {
        "id": "ndvyNeZPrHAM",
        "colab_type": "code",
        "colab": {
          "base_uri": "https://localhost:8080/",
          "height": 230
        },
        "outputId": "208f9b70-5320-4840-ab66-7f3f45094758"
      },
      "source": [
        "df2.loc[269503]['history']"
      ],
      "execution_count": 170,
      "outputs": [
        {
          "output_type": "execute_result",
          "data": {
            "application/vnd.google.colaboratory.intrinsic": {
              "type": "string"
            },
            "text/plain": [
              "' [SEP] Roads make my personal short list of acceptable government activities. Roads, a small military, police and courts and prisons, the FAA, a much more restricted version of the FCC, and maybe a toned down version of the FDA. I\\'m undecided about education but lean towards privatizing it. \\n\\nLibertarians in general are different from Ancaps in that they still want the government to do a few things. Not a lot of things, and not in a huge way, but some things. [SEP] &gt; oads make my personal short list of acceptable government activities. Roads, a small military, police and courts and prisons, the FAA, a much more restricted version of the FCC, and maybe a toned down version of the FDA. I\\'m undecided about education but lean towards privatizing it.\\n\\nSo you like gov doing things the market could do better (roads, FCC, FAA, FDA). Why?  [SEP] The market can\\'t do those things better. But heh, I\\'m sure you have a perfect free-market-solution to managing the ownership of radio frequencies that *doesn\\'t* involve going \"whoever uses it first owns it forever - just like land...\"'"
            ]
          },
          "metadata": {
            "tags": []
          },
          "execution_count": 170
        }
      ]
    }
  ]
}